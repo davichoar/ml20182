{
 "cells": [
  {
   "cell_type": "markdown",
   "metadata": {},
   "source": [
    "# Para Google Colaboratory (Drive)"
   ]
  },
  {
   "cell_type": "code",
   "execution_count": 0,
   "metadata": {
    "colab": {},
    "colab_type": "code",
    "id": "XbbL3ncEmbg9"
   },
   "outputs": [],
   "source": [
    "from google.colab import drive\n",
    "\n",
    "drive.mount('/content/drive')"
   ]
  },
  {
   "cell_type": "code",
   "execution_count": 23,
   "metadata": {
    "colab": {
     "base_uri": "https://localhost:8080/",
     "height": 34
    },
    "colab_type": "code",
    "executionInfo": {
     "elapsed": 1463,
     "status": "ok",
     "timestamp": 1538754816376,
     "user": {
      "displayName": "David Ascencios Rondón",
      "photoUrl": "",
      "userId": "04308483788421708049"
     },
     "user_tz": 300
    },
    "id": "1C3ICnsYiXuA",
    "outputId": "48443350-073e-45b6-f4b8-4bf071c4163a"
   },
   "outputs": [
    {
     "name": "stdout",
     "output_type": "stream",
     "text": [
      "ls: cannot access 'drive/My Drive/ML-20182/Notebooks/Training': Transport endpoint is not connected\n"
     ]
    }
   ],
   "source": [
    "#Deiv ruta\n",
    "!ls \"drive/My Drive/ML-20182/Notebooks/Training\"\n",
    "\n",
    "train_path = '/content/drive/My Drive/2018-2/Aprendiza de máquina/ML-20182/Notebooks/Training'\n",
    "#!unzip -uq \"drive/My Drive/ML-20182/Dataset&Papers/Dataset/fruits.zip\" -d \"drive/My Drive/ML-20182/Notebooks/Unzipeado/\""
   ]
  },
  {
   "cell_type": "code",
   "execution_count": 4,
   "metadata": {
    "colab": {
     "base_uri": "https://localhost:8080/",
     "height": 476
    },
    "colab_type": "code",
    "executionInfo": {
     "elapsed": 2043,
     "status": "ok",
     "timestamp": 1538710196438,
     "user": {
      "displayName": "JORGE ENRIQUE ESPINOZA MUÑOZ",
      "photoUrl": "",
      "userId": "01443437192001020192"
     },
     "user_tz": 300
    },
    "id": "jxELhIwHwqoA",
    "outputId": "5f8d6e28-f400-41ca-c889-e5f5d9c057f2"
   },
   "outputs": [
    {
     "name": "stdout",
     "output_type": "stream",
     "text": [
      "\u001b[0m\u001b[01;34m'Apple Braeburn'\u001b[0m/        \u001b[01;34mDates\u001b[0m/                 \u001b[01;34mPear\u001b[0m/\n",
      "\u001b[01;34m'Apple Golden 1'\u001b[0m/        \u001b[01;34mGranadilla\u001b[0m/           \u001b[01;34m'Pear Abate'\u001b[0m/\n",
      "\u001b[01;34m'Apple Golden 2'\u001b[0m/       \u001b[01;34m'Grapefruit Pink'\u001b[0m/     \u001b[01;34m'Pear Monster'\u001b[0m/\n",
      "\u001b[01;34m'Apple Golden 3'\u001b[0m/       \u001b[01;34m'Grapefruit White'\u001b[0m/    \u001b[01;34m'Pear Williams'\u001b[0m/\n",
      "\u001b[01;34m'Apple Granny Smith'\u001b[0m/   \u001b[01;34m'Grape Pink'\u001b[0m/           \u001b[01;34mPepino\u001b[0m/\n",
      "\u001b[01;34m'Apple Red 1'\u001b[0m/          \u001b[01;34m'Grape White'\u001b[0m/          \u001b[01;34mPhysalis\u001b[0m/\n",
      "\u001b[01;34m'Apple Red 2'\u001b[0m/          \u001b[01;34m'Grape White 2'\u001b[0m/       \u001b[01;34m'Physalis with Husk'\u001b[0m/\n",
      "\u001b[01;34m'Apple Red 3'\u001b[0m/           \u001b[01;34mGuava\u001b[0m/                 \u001b[01;34mPineapple\u001b[0m/\n",
      "\u001b[01;34m'Apple Red Delicious'\u001b[0m/   \u001b[01;34mHuckleberry\u001b[0m/          \u001b[01;34m'Pineapple Mini'\u001b[0m/\n",
      "\u001b[01;34m'Apple Red Yellow'\u001b[0m/      \u001b[01;34mKaki\u001b[0m/                 \u001b[01;34m'Pitahaya Red'\u001b[0m/\n",
      " \u001b[01;34mApricot\u001b[0m/                \u001b[01;34mKiwi\u001b[0m/                  \u001b[01;34mPlum\u001b[0m/\n",
      " \u001b[01;34mAvocado\u001b[0m/                \u001b[01;34mKumquats\u001b[0m/              \u001b[01;34mPomegranate\u001b[0m/\n",
      "\u001b[01;34m'Avocado ripe'\u001b[0m/          \u001b[01;34mLemon\u001b[0m/                 \u001b[01;34mQuince\u001b[0m/\n",
      " \u001b[01;34mBanana\u001b[0m/                \u001b[01;34m'Lemon Meyer'\u001b[0m/          \u001b[01;34mRambutan\u001b[0m/\n",
      "\u001b[01;34m'Banana Red'\u001b[0m/            \u001b[01;34mLimes\u001b[0m/                 \u001b[01;34mRaspberry\u001b[0m/\n",
      "\u001b[01;34m'Cactus fruit'\u001b[0m/          \u001b[01;34mLychee\u001b[0m/                \u001b[01;34mSalak\u001b[0m/\n",
      "\u001b[01;34m'Cantaloupe 1'\u001b[0m/          \u001b[01;34mMandarine\u001b[0m/             \u001b[01;34mStrawberry\u001b[0m/\n",
      "\u001b[01;34m'Cantaloupe 2'\u001b[0m/          \u001b[01;34mMango\u001b[0m/                \u001b[01;34m'Strawberry Wedge'\u001b[0m/\n",
      " \u001b[01;34mCarambula\u001b[0m/              \u001b[01;34mMaracuja\u001b[0m/              \u001b[01;34mTamarillo\u001b[0m/\n",
      "\u001b[01;34m'Cherry 1'\u001b[0m/             \u001b[01;34m'Melon Piel de Sapo'\u001b[0m/   \u001b[01;34mTangelo\u001b[0m/\n",
      "\u001b[01;34m'Cherry 2'\u001b[0m/              \u001b[01;34mMulberry\u001b[0m/             \u001b[01;34m'Tomato 1'\u001b[0m/\n",
      "\u001b[01;34m'Cherry Rainier'\u001b[0m/        \u001b[01;34mNectarine\u001b[0m/            \u001b[01;34m'Tomato 2'\u001b[0m/\n",
      "\u001b[01;34m'Cherry Wax Black'\u001b[0m/      \u001b[01;34mOrange\u001b[0m/               \u001b[01;34m'Tomato 3'\u001b[0m/\n",
      "\u001b[01;34m'Cherry Wax Red'\u001b[0m/        \u001b[01;34mPapaya\u001b[0m/               \u001b[01;34m'Tomato 4'\u001b[0m/\n",
      "\u001b[01;34m'Cherry Wax Yellow'\u001b[0m/    \u001b[01;34m'Passion Fruit'\u001b[0m/       \u001b[01;34m'Tomato Cherry Red'\u001b[0m/\n",
      " \u001b[01;34mClementine\u001b[0m/             \u001b[01;34mPeach\u001b[0m/                \u001b[01;34m'Tomato Maroon'\u001b[0m/\n",
      " \u001b[01;34mCocos\u001b[0m/                 \u001b[01;34m'Peach Flat'\u001b[0m/           \u001b[01;34mWalnut\u001b[0m/\n"
     ]
    }
   ],
   "source": [
    "#Jorge ruta\n",
    "ls -1 | wc -l '/content/drive/My Drive/2018-2/Aprendiza de máquina/ML-20182/Notebooks/Training/'\n",
    "\n",
    "train_path = '/content/drive/My Drive/2018-2/Aprendiza de máquina/ML-20182/Notebooks/Training'"
   ]
  },
  {
   "cell_type": "markdown",
   "metadata": {},
   "source": [
    "# Para Github (Local)"
   ]
  },
  {
   "cell_type": "code",
   "execution_count": 28,
   "metadata": {},
   "outputs": [
    {
     "name": "stdout",
     "output_type": "stream",
     "text": [
      "LICENSE  readme.md  Test  test-multiple_fruits\tTraining\r\n"
     ]
    }
   ],
   "source": [
    "#path\n",
    "!ls ../data/\n",
    "\n",
    "train_path_str = '../data/Training'\n",
    "test_path_str = '../data/Test'"
   ]
  },
  {
   "cell_type": "markdown",
   "metadata": {
    "colab_type": "text",
    "id": "VhezFB3aiXuP"
   },
   "source": [
    "# Imágenes - Preprocesamiento"
   ]
  },
  {
   "cell_type": "code",
   "execution_count": 29,
   "metadata": {
    "colab": {},
    "colab_type": "code",
    "id": "ATpdeW4xiXuS"
   },
   "outputs": [],
   "source": [
    "import math\n",
    "import numpy as np\n",
    "import matplotlib.pyplot as plt\n",
    "from PIL import Image\n",
    "from tqdm import tqdm_notebook\n",
    "from pathlib import Path\n",
    "%matplotlib inline"
   ]
  },
  {
   "cell_type": "code",
   "execution_count": 35,
   "metadata": {
    "colab": {
     "base_uri": "https://localhost:8080/",
     "height": 34
    },
    "colab_type": "code",
    "executionInfo": {
     "elapsed": 399,
     "status": "ok",
     "timestamp": 1538745928760,
     "user": {
      "displayName": "David Ascencios Rondón",
      "photoUrl": "",
      "userId": "04308483788421708049"
     },
     "user_tz": 300
    },
    "id": "tgvagcwZzAZ_",
    "outputId": "1483bfb8-3ab2-4e36-8776-ffeaf3d3ce95"
   },
   "outputs": [],
   "source": [
    "##Extrayendo las categorias\n",
    "\n",
    "def extract_categories(path_str):\n",
    "    path = Path(path_str)\n",
    "    categories = []\n",
    "    for index, e in enumerate(path.iterdir()):\n",
    "        categories.append((index, e))\n",
    "    return categories\n"
   ]
  },
  {
   "cell_type": "code",
   "execution_count": 43,
   "metadata": {},
   "outputs": [
    {
     "name": "stdout",
     "output_type": "stream",
     "text": [
      "Clases en Train:  81\n",
      "Clases en Test:  81\n"
     ]
    }
   ],
   "source": [
    "##Extrayendo las categorias (test)\n",
    "\n",
    "categories_train = extract_categories(train_path_str)\n",
    "categories_test = extract_categories(test_path_str)\n",
    "\n",
    "print('Clases en Train: ', len(categories_train))\n",
    "print('Clases en Test: ', len(categories_test))"
   ]
  },
  {
   "cell_type": "code",
   "execution_count": 44,
   "metadata": {},
   "outputs": [
    {
     "data": {
      "text/plain": [
       "[(0, PosixPath('../data/Training/Apple Red Delicious')),\n",
       " (1, PosixPath('../data/Training/Mango')),\n",
       " (2, PosixPath('../data/Training/Huckleberry')),\n",
       " (3, PosixPath('../data/Training/Pear Williams')),\n",
       " (4, PosixPath('../data/Training/Salak')),\n",
       " (5, PosixPath('../data/Training/Apple Red 1')),\n",
       " (6, PosixPath('../data/Training/Grapefruit White')),\n",
       " (7, PosixPath('../data/Training/Apple Golden 3')),\n",
       " (8, PosixPath('../data/Training/Carambula')),\n",
       " (9, PosixPath('../data/Training/Quince')),\n",
       " (10, PosixPath('../data/Training/Peach')),\n",
       " (11, PosixPath('../data/Training/Kumquats')),\n",
       " (12, PosixPath('../data/Training/Grape White')),\n",
       " (13, PosixPath('../data/Training/Banana Red')),\n",
       " (14, PosixPath('../data/Training/Grapefruit Pink')),\n",
       " (15, PosixPath('../data/Training/Passion Fruit')),\n",
       " (16, PosixPath('../data/Training/Cherry 1')),\n",
       " (17, PosixPath('../data/Training/Lemon')),\n",
       " (18, PosixPath('../data/Training/Apple Golden 2')),\n",
       " (19, PosixPath('../data/Training/Apple Red 3')),\n",
       " (20, PosixPath('../data/Training/Pepino')),\n",
       " (21, PosixPath('../data/Training/Tomato Cherry Red')),\n",
       " (22, PosixPath('../data/Training/Limes')),\n",
       " (23, PosixPath('../data/Training/Cocos')),\n",
       " (24, PosixPath('../data/Training/Rambutan')),\n",
       " (25, PosixPath('../data/Training/Apple Red 2')),\n",
       " (26, PosixPath('../data/Training/Lemon Meyer')),\n",
       " (27, PosixPath('../data/Training/Nectarine')),\n",
       " (28, PosixPath('../data/Training/Clementine')),\n",
       " (29, PosixPath('../data/Training/Pineapple Mini')),\n",
       " (30, PosixPath('../data/Training/Pineapple')),\n",
       " (31, PosixPath('../data/Training/Banana')),\n",
       " (32, PosixPath('../data/Training/Tamarillo')),\n",
       " (33, PosixPath('../data/Training/Grape White 2')),\n",
       " (34, PosixPath('../data/Training/Pomegranate')),\n",
       " (35, PosixPath('../data/Training/Tomato 2')),\n",
       " (36, PosixPath('../data/Training/Peach Flat')),\n",
       " (37, PosixPath('../data/Training/Guava')),\n",
       " (38, PosixPath('../data/Training/Mandarine')),\n",
       " (39, PosixPath('../data/Training/Walnut')),\n",
       " (40, PosixPath('../data/Training/Cactus fruit')),\n",
       " (41, PosixPath('../data/Training/Strawberry')),\n",
       " (42, PosixPath('../data/Training/Cherry Wax Black')),\n",
       " (43, PosixPath('../data/Training/Tomato Maroon')),\n",
       " (44, PosixPath('../data/Training/Kiwi')),\n",
       " (45, PosixPath('../data/Training/Apple Granny Smith')),\n",
       " (46, PosixPath('../data/Training/Cherry 2')),\n",
       " (47, PosixPath('../data/Training/Mulberry')),\n",
       " (48, PosixPath('../data/Training/Apple Red Yellow')),\n",
       " (49, PosixPath('../data/Training/Pear Abate')),\n",
       " (50, PosixPath('../data/Training/Cantaloupe 1')),\n",
       " (51, PosixPath('../data/Training/Kaki')),\n",
       " (52, PosixPath('../data/Training/Cherry Wax Red')),\n",
       " (53, PosixPath('../data/Training/Physalis')),\n",
       " (54, PosixPath('../data/Training/Dates')),\n",
       " (55, PosixPath('../data/Training/Plum')),\n",
       " (56, PosixPath('../data/Training/Apricot')),\n",
       " (57, PosixPath('../data/Training/Cantaloupe 2')),\n",
       " (58, PosixPath('../data/Training/Lychee')),\n",
       " (59, PosixPath('../data/Training/Tangelo')),\n",
       " (60, PosixPath('../data/Training/Maracuja')),\n",
       " (61, PosixPath('../data/Training/Grape Pink')),\n",
       " (62, PosixPath('../data/Training/Physalis with Husk')),\n",
       " (63, PosixPath('../data/Training/Apple Braeburn')),\n",
       " (64, PosixPath('../data/Training/Cherry Rainier')),\n",
       " (65, PosixPath('../data/Training/Raspberry')),\n",
       " (66, PosixPath('../data/Training/Pear')),\n",
       " (67, PosixPath('../data/Training/Avocado ripe')),\n",
       " (68, PosixPath('../data/Training/Avocado')),\n",
       " (69, PosixPath('../data/Training/Melon Piel de Sapo')),\n",
       " (70, PosixPath('../data/Training/Apple Golden 1')),\n",
       " (71, PosixPath('../data/Training/Granadilla')),\n",
       " (72, PosixPath('../data/Training/Papaya')),\n",
       " (73, PosixPath('../data/Training/Tomato 1')),\n",
       " (74, PosixPath('../data/Training/Pear Monster')),\n",
       " (75, PosixPath('../data/Training/Orange')),\n",
       " (76, PosixPath('../data/Training/Tomato 4')),\n",
       " (77, PosixPath('../data/Training/Pitahaya Red')),\n",
       " (78, PosixPath('../data/Training/Strawberry Wedge')),\n",
       " (79, PosixPath('../data/Training/Cherry Wax Yellow')),\n",
       " (80, PosixPath('../data/Training/Tomato 3'))]"
      ]
     },
     "execution_count": 44,
     "metadata": {},
     "output_type": "execute_result"
    }
   ],
   "source": [
    "#Revisamos que está en orden\n",
    "\n",
    "#train\n",
    "\n",
    "categories_train"
   ]
  },
  {
   "cell_type": "code",
   "execution_count": 45,
   "metadata": {},
   "outputs": [
    {
     "data": {
      "text/plain": [
       "[(0, PosixPath('../data/Test/Apple Red Delicious')),\n",
       " (1, PosixPath('../data/Test/Mango')),\n",
       " (2, PosixPath('../data/Test/Huckleberry')),\n",
       " (3, PosixPath('../data/Test/Pear Williams')),\n",
       " (4, PosixPath('../data/Test/Salak')),\n",
       " (5, PosixPath('../data/Test/Apple Red 1')),\n",
       " (6, PosixPath('../data/Test/Grapefruit White')),\n",
       " (7, PosixPath('../data/Test/Apple Golden 3')),\n",
       " (8, PosixPath('../data/Test/Carambula')),\n",
       " (9, PosixPath('../data/Test/Quince')),\n",
       " (10, PosixPath('../data/Test/Peach')),\n",
       " (11, PosixPath('../data/Test/Kumquats')),\n",
       " (12, PosixPath('../data/Test/Grape White')),\n",
       " (13, PosixPath('../data/Test/Banana Red')),\n",
       " (14, PosixPath('../data/Test/Grapefruit Pink')),\n",
       " (15, PosixPath('../data/Test/Passion Fruit')),\n",
       " (16, PosixPath('../data/Test/Cherry 1')),\n",
       " (17, PosixPath('../data/Test/Lemon')),\n",
       " (18, PosixPath('../data/Test/Apple Golden 2')),\n",
       " (19, PosixPath('../data/Test/Apple Red 3')),\n",
       " (20, PosixPath('../data/Test/Pepino')),\n",
       " (21, PosixPath('../data/Test/Tomato Cherry Red')),\n",
       " (22, PosixPath('../data/Test/Limes')),\n",
       " (23, PosixPath('../data/Test/Cocos')),\n",
       " (24, PosixPath('../data/Test/Rambutan')),\n",
       " (25, PosixPath('../data/Test/Apple Red 2')),\n",
       " (26, PosixPath('../data/Test/Lemon Meyer')),\n",
       " (27, PosixPath('../data/Test/Nectarine')),\n",
       " (28, PosixPath('../data/Test/Clementine')),\n",
       " (29, PosixPath('../data/Test/Pineapple Mini')),\n",
       " (30, PosixPath('../data/Test/Pineapple')),\n",
       " (31, PosixPath('../data/Test/Banana')),\n",
       " (32, PosixPath('../data/Test/Tamarillo')),\n",
       " (33, PosixPath('../data/Test/Grape White 2')),\n",
       " (34, PosixPath('../data/Test/Pomegranate')),\n",
       " (35, PosixPath('../data/Test/Tomato 2')),\n",
       " (36, PosixPath('../data/Test/Peach Flat')),\n",
       " (37, PosixPath('../data/Test/Guava')),\n",
       " (38, PosixPath('../data/Test/Mandarine')),\n",
       " (39, PosixPath('../data/Test/Walnut')),\n",
       " (40, PosixPath('../data/Test/Cactus fruit')),\n",
       " (41, PosixPath('../data/Test/Strawberry')),\n",
       " (42, PosixPath('../data/Test/Cherry Wax Black')),\n",
       " (43, PosixPath('../data/Test/Tomato Maroon')),\n",
       " (44, PosixPath('../data/Test/Kiwi')),\n",
       " (45, PosixPath('../data/Test/Apple Granny Smith')),\n",
       " (46, PosixPath('../data/Test/Cherry 2')),\n",
       " (47, PosixPath('../data/Test/Mulberry')),\n",
       " (48, PosixPath('../data/Test/Apple Red Yellow')),\n",
       " (49, PosixPath('../data/Test/Pear Abate')),\n",
       " (50, PosixPath('../data/Test/Cantaloupe 1')),\n",
       " (51, PosixPath('../data/Test/Kaki')),\n",
       " (52, PosixPath('../data/Test/Cherry Wax Red')),\n",
       " (53, PosixPath('../data/Test/Physalis')),\n",
       " (54, PosixPath('../data/Test/Dates')),\n",
       " (55, PosixPath('../data/Test/Plum')),\n",
       " (56, PosixPath('../data/Test/Apricot')),\n",
       " (57, PosixPath('../data/Test/Cantaloupe 2')),\n",
       " (58, PosixPath('../data/Test/Lychee')),\n",
       " (59, PosixPath('../data/Test/Tangelo')),\n",
       " (60, PosixPath('../data/Test/Maracuja')),\n",
       " (61, PosixPath('../data/Test/Grape Pink')),\n",
       " (62, PosixPath('../data/Test/Physalis with Husk')),\n",
       " (63, PosixPath('../data/Test/Apple Braeburn')),\n",
       " (64, PosixPath('../data/Test/Cherry Rainier')),\n",
       " (65, PosixPath('../data/Test/Raspberry')),\n",
       " (66, PosixPath('../data/Test/Pear')),\n",
       " (67, PosixPath('../data/Test/Avocado ripe')),\n",
       " (68, PosixPath('../data/Test/Avocado')),\n",
       " (69, PosixPath('../data/Test/Melon Piel de Sapo')),\n",
       " (70, PosixPath('../data/Test/Apple Golden 1')),\n",
       " (71, PosixPath('../data/Test/Granadilla')),\n",
       " (72, PosixPath('../data/Test/Papaya')),\n",
       " (73, PosixPath('../data/Test/Tomato 1')),\n",
       " (74, PosixPath('../data/Test/Pear Monster')),\n",
       " (75, PosixPath('../data/Test/Orange')),\n",
       " (76, PosixPath('../data/Test/Tomato 4')),\n",
       " (77, PosixPath('../data/Test/Pitahaya Red')),\n",
       " (78, PosixPath('../data/Test/Strawberry Wedge')),\n",
       " (79, PosixPath('../data/Test/Cherry Wax Yellow')),\n",
       " (80, PosixPath('../data/Test/Tomato 3'))]"
      ]
     },
     "execution_count": 45,
     "metadata": {},
     "output_type": "execute_result"
    }
   ],
   "source": [
    "#test\n",
    "categories_test"
   ]
  },
  {
   "cell_type": "code",
   "execution_count": 46,
   "metadata": {},
   "outputs": [],
   "source": [
    "#Conteo de imágenes por Training y Testing\n",
    "\n",
    "def count_images(categories):\n",
    "    count = 0\n",
    "    for i,path in categories:\n",
    "        fruit_path = Path(path)\n",
    "        for img_fruit in fruit_path.iterdir():\n",
    "            count += 1\n",
    "    return count\n"
   ]
  },
  {
   "cell_type": "code",
   "execution_count": 47,
   "metadata": {},
   "outputs": [
    {
     "name": "stdout",
     "output_type": "stream",
     "text": [
      "La cantidad de imágenes para  el train es  41322\n",
      "La cantidad de imágenes para  el test es  13877\n"
     ]
    }
   ],
   "source": [
    "# Revisamos cantidad de imagenes para cada set  (deberían ser 41322 y 13877, por info del repo de GitHub)\n",
    "print('La cantidad de imágenes para  el train es ', count_images(categories_train))\n",
    "print('La cantidad de imágenes para  el test es ', count_images(categories_test))\n"
   ]
  },
  {
   "cell_type": "code",
   "execution_count": 55,
   "metadata": {
    "colab": {},
    "colab_type": "code",
    "id": "1aLQGgARiXuZ"
   },
   "outputs": [],
   "source": [
    "# Tamaño del training set: 41322 imgs\n",
    "train_size = count_images(categories_train)\n",
    "\n",
    "# Tamaño del test set: 13877 imgs\n",
    "test_size = count_images(categories_test)\n",
    "\n",
    "# Primero inicializamos los arrays que vamos a usar\n",
    "x_train = np.ndarray(shape=(train_size, img_size, img_size,3), dtype=np.float32)\n",
    "y_train = np.zeros(shape=(train_size), dtype=np.int8)\n",
    "x_val = np.ndarray(shape=(test_size, img_size, img_size,3), dtype=np.float32)\n",
    "y_val = np.zeros(shape=(test_size), dtype=np.int8)"
   ]
  },
  {
   "cell_type": "code",
   "execution_count": 56,
   "metadata": {
    "colab": {
     "base_uri": "https://localhost:8080/",
     "height": 34
    },
    "colab_type": "code",
    "executionInfo": {
     "elapsed": 1403,
     "status": "ok",
     "timestamp": 1538745937849,
     "user": {
      "displayName": "David Ascencios Rondón",
      "photoUrl": "",
      "userId": "04308483788421708049"
     },
     "user_tz": 300
    },
    "id": "92nggiJ3iXuX",
    "outputId": "fb7ee1a0-2e41-4a55-d670-fb9f55ad8cc9"
   },
   "outputs": [],
   "source": [
    "# Definimos una funcion para leer una imagen y hacer el preprocesamiento\n",
    "from keras.applications.resnet50 import preprocess_input\n",
    "img_size = 100\n",
    "\n",
    "def read_img(path):\n",
    "    x = Image.open(path)\n",
    "    #x = x.resize((img_size, img_size))\n",
    "    x = np.asarray(x, np.float32)\n",
    "    return preprocess_input(x)"
   ]
  },
  {
   "cell_type": "code",
   "execution_count": null,
   "metadata": {
    "colab": {
     "base_uri": "https://localhost:8080/",
     "height": 486
    },
    "colab_type": "code",
    "executionInfo": {
     "elapsed": 1648,
     "status": "error",
     "timestamp": 1538751259266,
     "user": {
      "displayName": "David Ascencios Rondón",
      "photoUrl": "",
      "userId": "04308483788421708049"
     },
     "user_tz": 300
    },
    "id": "8NghKXIHiXuc",
    "outputId": "3fc3f3ce-9e31-4051-a19f-568a22bff800"
   },
   "outputs": [
    {
     "name": "stdout",
     "output_type": "stream",
     "text": [
      "0 ../data/Training/Apple Red Delicious\n",
      "1 ../data/Training/Mango\n",
      "2 ../data/Training/Huckleberry\n",
      "3 ../data/Training/Pear Williams\n",
      "4 ../data/Training/Salak\n",
      "5 ../data/Training/Apple Red 1\n",
      "6 ../data/Training/Grapefruit White\n",
      "7 ../data/Training/Apple Golden 3\n",
      "8 ../data/Training/Carambula\n",
      "9 ../data/Training/Quince\n",
      "10 ../data/Training/Peach\n",
      "11 ../data/Training/Kumquats\n",
      "12 ../data/Training/Grape White\n",
      "13 ../data/Training/Banana Red\n",
      "14 ../data/Training/Grapefruit Pink\n",
      "15 ../data/Training/Passion Fruit\n",
      "16 ../data/Training/Cherry 1\n",
      "17 ../data/Training/Lemon\n",
      "18 ../data/Training/Apple Golden 2\n",
      "19 ../data/Training/Apple Red 3\n",
      "20 ../data/Training/Pepino\n",
      "21 ../data/Training/Tomato Cherry Red\n",
      "22 ../data/Training/Limes\n",
      "23 ../data/Training/Cocos\n",
      "24 ../data/Training/Rambutan\n",
      "25 ../data/Training/Apple Red 2\n",
      "26 ../data/Training/Lemon Meyer\n",
      "27 ../data/Training/Nectarine\n",
      "28 ../data/Training/Clementine\n",
      "29 ../data/Training/Pineapple Mini\n",
      "30 ../data/Training/Pineapple\n",
      "31 ../data/Training/Banana\n",
      "32 ../data/Training/Tamarillo\n",
      "33 ../data/Training/Grape White 2\n",
      "34 ../data/Training/Pomegranate\n",
      "35 ../data/Training/Tomato 2\n",
      "36 ../data/Training/Peach Flat\n",
      "37 ../data/Training/Guava\n",
      "38 ../data/Training/Mandarine\n",
      "39 ../data/Training/Walnut\n",
      "40 ../data/Training/Cactus fruit\n",
      "41 ../data/Training/Strawberry\n",
      "42 ../data/Training/Cherry Wax Black\n",
      "43 ../data/Training/Tomato Maroon\n",
      "44 ../data/Training/Kiwi\n",
      "45 ../data/Training/Apple Granny Smith\n",
      "46 ../data/Training/Cherry 2\n",
      "47 ../data/Training/Mulberry\n",
      "48 ../data/Training/Apple Red Yellow\n",
      "49 ../data/Training/Pear Abate\n",
      "50 ../data/Training/Cantaloupe 1\n",
      "51 ../data/Training/Kaki\n",
      "52 ../data/Training/Cherry Wax Red\n",
      "53 ../data/Training/Physalis\n",
      "54 ../data/Training/Dates\n",
      "55 ../data/Training/Plum\n",
      "56 ../data/Training/Apricot\n",
      "57 ../data/Training/Cantaloupe 2\n",
      "58 ../data/Training/Lychee\n",
      "59 ../data/Training/Tangelo\n",
      "60 ../data/Training/Maracuja\n",
      "61 ../data/Training/Grape Pink\n",
      "62 ../data/Training/Physalis with Husk\n",
      "63 ../data/Training/Apple Braeburn\n",
      "64 ../data/Training/Cherry Rainier\n",
      "65 ../data/Training/Raspberry\n",
      "66 ../data/Training/Pear\n",
      "67 ../data/Training/Avocado ripe\n",
      "68 ../data/Training/Avocado\n",
      "69 ../data/Training/Melon Piel de Sapo\n",
      "70 ../data/Training/Apple Golden 1\n",
      "71 ../data/Training/Granadilla\n",
      "72 ../data/Training/Papaya\n",
      "73 ../data/Training/Tomato 1\n",
      "74 ../data/Training/Pear Monster\n",
      "75 ../data/Training/Orange\n",
      "76 ../data/Training/Tomato 4\n",
      "77 ../data/Training/Pitahaya Red\n",
      "78 ../data/Training/Strawberry Wedge\n",
      "79 ../data/Training/Cherry Wax Yellow\n",
      "80 ../data/Training/Tomato 3\n"
     ]
    }
   ],
   "source": [
    "# Cargamos el train set\n",
    "global_index = 0\n",
    "for i,path in categories:\n",
    "    print(i,path)\n",
    "    \n",
    "    train_path = Path(path)\n",
    "    imagenes = []\n",
    "    for index, e in enumerate(train_path.iterdir()):\n",
    "      #print(global_index)\n",
    "      x_train[global_index] = read_img(e)\n",
    "      y_train[global_index] = i\n",
    "      global_index += 1\n",
    "print(len(x_train), len(y_train))"
   ]
  },
  {
   "cell_type": "code",
   "execution_count": 42,
   "metadata": {
    "colab": {},
    "colab_type": "code",
    "id": "3ZbR5bj1iXuf"
   },
   "outputs": [
    {
     "ename": "NameError",
     "evalue": "name 'cat_imgs' is not defined",
     "output_type": "error",
     "traceback": [
      "\u001b[0;31m---------------------------------------------------------------------------\u001b[0m",
      "\u001b[0;31mNameError\u001b[0m                                 Traceback (most recent call last)",
      "\u001b[0;32m<ipython-input-42-69d929eec761>\u001b[0m in \u001b[0;36m<module>\u001b[0;34m()\u001b[0m\n\u001b[1;32m      1\u001b[0m \u001b[0;31m# Cargamos el validation set\u001b[0m\u001b[0;34m\u001b[0m\u001b[0;34m\u001b[0m\u001b[0m\n\u001b[0;32m----> 2\u001b[0;31m \u001b[0;32mfor\u001b[0m \u001b[0mi\u001b[0m\u001b[0;34m,\u001b[0m\u001b[0me\u001b[0m \u001b[0;32min\u001b[0m \u001b[0mtqdm_notebook\u001b[0m\u001b[0;34m(\u001b[0m\u001b[0menumerate\u001b[0m\u001b[0;34m(\u001b[0m\u001b[0mcat_imgs\u001b[0m\u001b[0;34m[\u001b[0m\u001b[0;36m1000\u001b[0m\u001b[0;34m:\u001b[0m\u001b[0;36m1100\u001b[0m\u001b[0;34m]\u001b[0m \u001b[0;34m+\u001b[0m \u001b[0mdog_imgs\u001b[0m\u001b[0;34m[\u001b[0m\u001b[0;36m1000\u001b[0m\u001b[0;34m:\u001b[0m\u001b[0;36m1100\u001b[0m\u001b[0;34m]\u001b[0m\u001b[0;34m)\u001b[0m\u001b[0;34m)\u001b[0m\u001b[0;34m:\u001b[0m\u001b[0;34m\u001b[0m\u001b[0m\n\u001b[0m\u001b[1;32m      3\u001b[0m     \u001b[0mx_val\u001b[0m\u001b[0;34m[\u001b[0m\u001b[0mi\u001b[0m\u001b[0;34m]\u001b[0m \u001b[0;34m=\u001b[0m \u001b[0mread_img\u001b[0m\u001b[0;34m(\u001b[0m\u001b[0me\u001b[0m\u001b[0;34m)\u001b[0m\u001b[0;34m\u001b[0m\u001b[0m\n\u001b[1;32m      4\u001b[0m \u001b[0;34m\u001b[0m\u001b[0m\n\u001b[1;32m      5\u001b[0m \u001b[0my_val\u001b[0m\u001b[0;34m[\u001b[0m\u001b[0;36m100\u001b[0m\u001b[0;34m:\u001b[0m\u001b[0;34m]\u001b[0m \u001b[0;34m=\u001b[0m \u001b[0;36m1\u001b[0m \u001b[0;31m# cat -> 0 | dog -> 1\u001b[0m\u001b[0;34m\u001b[0m\u001b[0m\n",
      "\u001b[0;31mNameError\u001b[0m: name 'cat_imgs' is not defined"
     ]
    }
   ],
   "source": [
    "# Cargamos el validation set\n",
    "for i,e in tqdm_notebook(enumerate(cat_imgs[1000:1100] + dog_imgs[1000:1100])):\n",
    "    x_val[i] = read_img(e)\n",
    "\n",
    "y_val[100:] = 1 # cat -> 0 | dog -> 1"
   ]
  },
  {
   "cell_type": "markdown",
   "metadata": {
    "colab_type": "text",
    "id": "w9IejjnjiXui"
   },
   "source": [
    "# Cargamos una red entrenada\n",
    "Vamos a cargar la red **ResNet50** ya entrenada, pero sin incluir las capas densas, ya que vamos a adaptar la red a nuestro caso específico."
   ]
  },
  {
   "cell_type": "code",
   "execution_count": null,
   "metadata": {
    "colab": {},
    "colab_type": "code",
    "id": "ZX0eIHxfiXuj"
   },
   "outputs": [],
   "source": [
    "from keras.applications.resnet50 import ResNet50\n",
    "base_model = ResNet50(include_top=False, input_shape=(img_size,img_size,3), pooling='avg')\n",
    "base_model.summary()"
   ]
  },
  {
   "cell_type": "code",
   "execution_count": null,
   "metadata": {
    "colab": {},
    "colab_type": "code",
    "id": "YhhteQshiXuo"
   },
   "outputs": [],
   "source": [
    "base_model.input, base_model.output"
   ]
  },
  {
   "cell_type": "code",
   "execution_count": null,
   "metadata": {
    "colab": {},
    "colab_type": "code",
    "id": "FrW_IaWqiXus"
   },
   "outputs": [],
   "source": [
    "# Dado que solo queremos entrenar las capas densas del modelo que agregaremos\n",
    "# en el siguiente paso, vamos a setear \"trainable = False\" para que los pesos\n",
    "# de la red entrenada no cambien.\n",
    "base_model.trainable = False"
   ]
  },
  {
   "cell_type": "markdown",
   "metadata": {
    "colab_type": "text",
    "id": "c-qEhprMiXuw"
   },
   "source": [
    "# Creamos el modelo clasificador"
   ]
  },
  {
   "cell_type": "code",
   "execution_count": null,
   "metadata": {
    "colab": {},
    "colab_type": "code",
    "id": "aHgW_OyNiXuy"
   },
   "outputs": [],
   "source": [
    "from keras.models import Sequential\n",
    "from keras.layers import Dense, Flatten\n",
    "from keras.optimizers import Adam\n",
    "\n",
    "lr = 0.01\n",
    "\n",
    "top_model = Sequential([\n",
    "    Dense(128, activation='relu', input_shape=(2048,)),\n",
    "    Dense(1, activation='softmax')\n",
    "])\n",
    "\n",
    "top_model.compile(SGD(lr, momentum=0.9), loss='sparse_categorical_crossentropy', metrics=['accuracy'])\n",
    "top_model.summary()"
   ]
  },
  {
   "cell_type": "markdown",
   "metadata": {
    "colab_type": "text",
    "id": "l2__yu7LiXu2"
   },
   "source": [
    "# Juntamos los 2 modelos"
   ]
  },
  {
   "cell_type": "code",
   "execution_count": null,
   "metadata": {
    "colab": {},
    "colab_type": "code",
    "id": "AqwG8QrMiXu3"
   },
   "outputs": [],
   "source": [
    "final_model = Sequential([base_model, top_model])\n",
    "\n",
    "final_model.compile(SGD(lr, momentum=0.9),loss='sparse_categorical_crossentropy', metrics=['accuracy'])\n",
    "final_model.summary()"
   ]
  },
  {
   "cell_type": "markdown",
   "metadata": {
    "colab_type": "text",
    "id": "HJaERFY9iXu7"
   },
   "source": [
    "# Entrenando en nuestro dataset"
   ]
  },
  {
   "cell_type": "code",
   "execution_count": null,
   "metadata": {
    "colab": {},
    "colab_type": "code",
    "id": "Y811jTohiXu7"
   },
   "outputs": [],
   "source": [
    "# log = final_model.fit(x_train, y_train, batch_size=64, validation_data=[x_val, y_val])"
   ]
  },
  {
   "cell_type": "markdown",
   "metadata": {
    "colab_type": "text",
    "id": "PwLY2wnUiXu9"
   },
   "source": [
    "La red de base que estamos usando (ResNet50) tiene bastantes capas y hacer todas estas operaciones toma un tiempo considerable, en CPU hacer este entrenamiento puede resultar impractico.\n",
    "# Precompute\n",
    "Si tenemos en cuenta que vamos a entrenar nuestro dataset un cierto número de épocas, en cada época se van a repetir exactamente las mismas operaciones en la misma data. Para no redundar, es bastante útil hacer un precompute de la data:\n",
    "1. Pasar todas nuestras imagenes por la red base (ResNet50).\n",
    "2. Guardamos los features extraidos.\n",
    "3. Entrenamos las capas densas con los features extraidos."
   ]
  },
  {
   "cell_type": "code",
   "execution_count": null,
   "metadata": {
    "colab": {},
    "colab_type": "code",
    "id": "uoTw6dOCiXu-"
   },
   "outputs": [],
   "source": [
    "precomputed_train = base_model.predict(x_train, batch_size=128, verbose=1)\n",
    "precomputed_train.shape"
   ]
  },
  {
   "cell_type": "code",
   "execution_count": null,
   "metadata": {
    "colab": {},
    "colab_type": "code",
    "id": "Xw25nEJiiXvA"
   },
   "outputs": [],
   "source": [
    "precomputed_val = base_model.predict(x_val, batch_size=128, verbose=1)\n",
    "precomputed_val.shape"
   ]
  },
  {
   "cell_type": "markdown",
   "metadata": {
    "colab_type": "text",
    "id": "zHSYQjRwiXvD"
   },
   "source": [
    "# Entrenar a partir de los features extraidos"
   ]
  },
  {
   "cell_type": "code",
   "execution_count": null,
   "metadata": {
    "colab": {},
    "colab_type": "code",
    "id": "imBa2G6jiXvE"
   },
   "outputs": [],
   "source": [
    "# Ahora podemos usar un batch_size mas grande, ya que los features son mas pequeños\n",
    "# que las imagenes.\n",
    "log = top_model.fit(precomputed_train, y_train, epochs=5, batch_size=256, validation_data=[precomputed_val, y_val])"
   ]
  },
  {
   "cell_type": "code",
   "execution_count": null,
   "metadata": {
    "colab": {},
    "colab_type": "code",
    "id": "onGqywijiXvG"
   },
   "outputs": [],
   "source": [
    "def show_results(log):\n",
    "    fig, axes = plt.subplots(1, 2, figsize=(14,4))\n",
    "    ax1, ax2 = axes\n",
    "    ax1.plot(log.history['loss'], label='train')\n",
    "    ax1.plot(log.history['val_loss'], label='validation')\n",
    "    ax1.set_xlabel('epoch'); ax1.set_ylabel('loss')\n",
    "    ax2.plot(log.history['acc'], label='train')\n",
    "    ax2.plot(log.history['val_acc'], label='validation')\n",
    "    ax2.set_xlabel('epoch'); ax2.set_ylabel('accuracy')\n",
    "    for ax in axes: ax.legend()"
   ]
  },
  {
   "cell_type": "code",
   "execution_count": null,
   "metadata": {
    "colab": {},
    "colab_type": "code",
    "id": "i2DOfUNCiXvK"
   },
   "outputs": [],
   "source": [
    "show_results(log)"
   ]
  },
  {
   "cell_type": "markdown",
   "metadata": {
    "colab_type": "text",
    "id": "9A5_HVEmiXvO"
   },
   "source": [
    "# Ejercicio: usando el modelo completo en el test set"
   ]
  },
  {
   "cell_type": "code",
   "execution_count": null,
   "metadata": {
    "colab": {},
    "colab_type": "code",
    "id": "6RVIEOJeiXvP"
   },
   "outputs": [],
   "source": [
    "test_path = Path('../input/test/')\n",
    "test_files = list(test_path.iterdir())"
   ]
  },
  {
   "cell_type": "code",
   "execution_count": null,
   "metadata": {
    "colab": {},
    "colab_type": "code",
    "id": "YxHob6YBiXvR"
   },
   "outputs": [],
   "source": [
    "def get_class(path):\n",
    "    # Cargar la imagen del path\n",
    "    img = Image.open(path)\n",
    "    \n",
    "    # Cambiar el tamaño de la imagen\n",
    "    img_resized = img.resize((224, 224))\n",
    "    \n",
    "    # Cambiar a formato numpy y preprocesar\n",
    "    x = np.asarray(img_resized, np.float32)[None]\n",
    "    x = preprocess_input(x)\n",
    "    \n",
    "    # Obtener predicciones\n",
    "    y = final_model.predict(x)\n",
    "    \n",
    "    # Decodear predicciones\n",
    "    pred = 'cat' if y < 0.5 else 'dog'\n",
    "    \n",
    "    # Mostrar la imagen\n",
    "    plt.imshow(img)\n",
    "    plt.axis('off')\n",
    "    plt.title(pred, size=14)\n",
    "    \n",
    "    return"
   ]
  },
  {
   "cell_type": "code",
   "execution_count": null,
   "metadata": {
    "colab": {},
    "colab_type": "code",
    "id": "viEz71EhiXvT"
   },
   "outputs": [],
   "source": [
    "sample = np.random.choice(test_files)\n",
    "get_class(sample)"
   ]
  }
 ],
 "metadata": {
  "colab": {
   "collapsed_sections": [],
   "name": "ConvNet.ipynb",
   "provenance": [],
   "version": "0.3.2"
  },
  "kernelspec": {
   "display_name": "Python 3",
   "language": "python",
   "name": "python3"
  },
  "language_info": {
   "codemirror_mode": {
    "name": "ipython",
    "version": 3
   },
   "file_extension": ".py",
   "mimetype": "text/x-python",
   "name": "python",
   "nbconvert_exporter": "python",
   "pygments_lexer": "ipython3",
   "version": "3.6.6"
  }
 },
 "nbformat": 4,
 "nbformat_minor": 1
}
